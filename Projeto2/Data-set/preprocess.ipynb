{
 "cells": [
  {
   "cell_type": "markdown",
   "metadata": {},
   "source": [
    "# Data-set \n",
    "\n",
    "Age: The age of the student.\n",
    "Gender: The gender of the student (M for Male, F for Female).\n",
    "Parental_Education: The highest level of education attained by the student's parents.\n",
    "Family_Income: The family income level.\n",
    "Previous_Grades: The student's previous academic performance (A, B, or C grades).\n",
    "Attendance: The percentage of attendance in classes.\n",
    "Class_Participation: The level of participation in class activities (Low, Medium, or High).\n",
    "Study_Hours: The average number of study hours per week.\n",
    "Major: The student's major or field of study.\n",
    "Uni_Type: The type of University attended (Public or Private).\n",
    "Financial_Status: The financial status of the student (Low, Medium, or High).\n",
    "Parental_Involvement: The level of parental involvement in the student's education (Low, Medium, or High).\n",
    "Educational_Resources: Availability of educational resources at home (Yes or No).\n",
    "Motivation: The level of motivation towards studies (Low, Medium, or High).\n",
    "Self_Esteem: The level of self-esteem (Low, Medium, or High).\n",
    "Stress_Levels: The level of stress experienced by the student (Low, Medium, or High).\n",
    "School_Environment: Perception of the school environment (Negative, Neutral, or Positive).\n",
    "Professor_Quality: The quality of professors (Low, Medium, or High).\n",
    "Class_Size: The size of the class.\n",
    "Extracurricular_Activities: Participation in extracurricular activities (Yes or No).\n",
    "Sleep_Patterns: Average hours of sleep per day.\n",
    "Nutrition: The quality of nutrition (Unhealthy, Balanced, or Healthy).\n",
    "Physical_Activity: Level of physical activity (Low, Medium, or High).\n",
    "Screen_Time: Hours spent on screen-based activities per day.\n",
    "Educational_Tech_Use: Use of educational technology (Yes or No).\n",
    "Peer_Group: Perception of peer group influence (Negative, Neutral, or Positive).\n",
    "Bullying: Experience of bullying (Yes or No).\n",
    "Study_Space: Availability of a dedicated study space at home (Yes or No).\n",
    "Learning_Style: Preferred learning style (Visual, Auditory, or Kinesthetic).\n",
    "Tutoring: Participation in tutoring programs (Yes or No).\n",
    "Mentoring: Availability of mentoring support (Yes or No).\n",
    "Lack_of_Interest: Level of interest in academics (Low, Medium, or High).\n",
    "Time_Wasted_on_Social_Media: Time spent on social media platforms.\n",
    "Sports_Participation: Level of participation in sports activities (Low, Medium, or High).\n",
    "Grades: The final grades achieved by the student (A, B, or C)."
   ]
  },
  {
   "cell_type": "markdown",
   "metadata": {},
   "source": [
    "# Imports"
   ]
  },
  {
   "cell_type": "code",
   "execution_count": null,
   "metadata": {},
   "outputs": [
    {
     "ename": "",
     "evalue": "",
     "output_type": "error",
     "traceback": [
      "\u001b[1;31mThe kernel failed to start as the Python Environment 'env (Python 3.12.3)' is no longer available. Consider selecting another kernel or refreshing the list of Python Environments."
     ]
    }
   ],
   "source": [
    "import pandas as pd\n",
    "from sklearn.preprocessing import LabelEncoder\n",
    "from sklearn.model_selection import train_test_split\n",
    "import os\n",
    "from imblearn.over_sampling import RandomOverSampler\n",
    "\n",
    "df = pd.read_csv('StudentData.csv')"
   ]
  },
  {
   "cell_type": "markdown",
   "metadata": {},
   "source": []
  },
  {
   "cell_type": "markdown",
   "metadata": {},
   "source": [
    "# Removing Redundancies"
   ]
  },
  {
   "cell_type": "markdown",
   "metadata": {},
   "source": [
    "Remove highly correlated columns in order to simplify the decision tree for better interpretability and remove useless redundancies."
   ]
  },
  {
   "cell_type": "code",
   "execution_count": null,
   "metadata": {},
   "outputs": [],
   "source": [
    "#select numerical columns\n",
    "numerical_df = df.select_dtypes(include=['float64','int64'])\n",
    "\n",
    "#calculate correlation matrix from numerical columns\n",
    "correlation_matrix = numerical_df.corr()\n",
    "\n",
    "#identify columns\n",
    "high_corr_columns = [column for column in correlation_matrix.columns if any(abs(correlation_matrix[column]) > 0.8) and column!= 'Grades']\n",
    "\n",
    "print(f\"Dropped comlumns: {high_corr_columns}\\n\")\n",
    "\n",
    "df = df.drop(columns=high_corr_columns)\n",
    "\n",
    "#remove spaces and replace with _\n",
    "df['Parental_Education'] = df['Parental_Education'].astype('category')\n",
    "df['Parental_Education'] = df['Parental_Education'].cat.rename_categories({\n",
    "    'High School':'High_School',\n",
    "    'Some College':'Some_College'\n",
    "})\n",
    "\n",
    "#display data frame with first row\n",
    "print(df.iloc[0])"
   ]
  },
  {
   "cell_type": "markdown",
   "metadata": {},
   "source": [
    "# Converting Numerical To Categorical Data"
   ]
  },
  {
   "cell_type": "code",
   "execution_count": null,
   "metadata": {},
   "outputs": [],
   "source": [
    "df['Family_Income'] = pd.to_numeric(df['Family_Income'], errors='coerce')\n",
    "\n",
    "def categorize(column, bins, labels):\n",
    "    return pd.cut(column, bins=bins, labels=labels, include_lowest=True)\n",
    "\n",
    "#converting numerical data to string categories\n",
    "df['Family_Income_Category'] = categorize(df['Family_Income'], bins=[30000.0, 39000.0, 48000.0, 57000.0, 66000.0, 75000.0], labels=[\"LOW\", \"LOWER_MIDDLE\", \"MIDDLE\", \"UPPER_MIDDLE\", \"HIGH\"])\n",
    "# unused\n",
    "#  df['Attendance_Category'] = categorize(df['Attendance'], bins=[0.0, 50.0, 75.0, 90.0, 100.0], labels=[\"LOW\", \"AVERAGE\", \"GOOD\", \"EXCELLENT\"])\n",
    "#  df['Study_Hours_Category'] = categorize(df['Study_Hours'], bins=[5.0, 8.0, 11.0, 14.0, 17.0, 20.0], labels=[\"VERY_LOW\", \"LOW\", \"MODERATE\", \"HIGH\", \"VERY_HIGH\"])\n",
    "#  df['Sleep_Patterns_Category'] = categorize(df['Sleep_Patterns'], bins=[4.0, 5.0, 6.0, 7.0, 8.0, 9.0], labels=[\"NONE_TO_LITTLE\", \"LITTLE\", \"MEDIUM\", \"MUCH\", \"LOTS\"])\n",
    "#  df['Time_on_Social_Media'] = categorize(df['Time_Wasted_on_Social_Media'], bins=[0.0, 1.0, 2.0, 3.0, 4.0, 5.0, 6.0], labels=[\"NONE_TO_LITTLE\", \"LITTLE\", \"MEDIUM\", \"MUCH\", \"LOTS\"])\n",
    "\n",
    "#remove numerical columns\n",
    "df = df.drop(columns=['Family_Income'])\n",
    "\n",
    "#display data frame with first row\n",
    "print(df.iloc[0])"
   ]
  },
  {
   "cell_type": "markdown",
   "metadata": {},
   "source": [
    "# Removing/Filling Null Data\n",
    "\n",
    "If a row has more than 7 null attribures it will be removed, otherwise it will be filled with the most frequent value in the attribute column"
   ]
  },
  {
   "cell_type": "code",
   "execution_count": null,
   "metadata": {},
   "outputs": [],
   "source": [
    "#delete row if 7 or mode data is null\n",
    "df = df.dropna(thresh=7)\n",
    "\n",
    "#fill missing with most frequent value in column\n",
    "categorical_columns = df.select_dtypes(include=['object', 'category']).columns\n",
    "\n",
    "for col in categorical_columns:\n",
    "    mode_value = df[col].mode()[0]\n",
    "    df[col] = df[col].fillna(mode_value)"
   ]
  },
  {
   "cell_type": "markdown",
   "metadata": {},
   "source": [
    "# Categorical To String\n",
    "Data must be converted to string to be read by the c++ code."
   ]
  },
  {
   "cell_type": "code",
   "execution_count": null,
   "metadata": {},
   "outputs": [],
   "source": [
    "#convert columns to string\n",
    "df = df.astype(str)"
   ]
  },
  {
   "cell_type": "markdown",
   "metadata": {},
   "source": [
    "# Splitting Train-Test\n",
    "\n",
    "Train will contain 70% of the data and Test will have the remaining 30%."
   ]
  },
  {
   "cell_type": "code",
   "execution_count": null,
   "metadata": {},
   "outputs": [],
   "source": [
    "#set target values\n",
    "X = df.drop(columns=['Grades'])\n",
    "y = df['Grades']\n",
    "\n",
    "#split the data (70-30)\n",
    "X_train, X_test, y_train, y_test = train_test_split(X, y, test_size=0.3, random_state=42)\n",
    "\n",
    "#combine features and target back for train and test\n",
    "train_data = X_train.copy()\n",
    "train_data['Grade'] = y_train\n",
    "\n",
    "test_data = X_test.copy()\n",
    "test_data['Grades'] = y_test\n",
    "\n",
    "print(train_data.head().iloc[0])\n",
    "\n",
    "test_data = test_data.drop(columns=['Grades'])\n",
    "\n",
    "#save files\n",
    "os.makedirs('PrepData', exist_ok=True)\n",
    "train_data.to_csv('PrepData/Stdnt_Train.csv', index=False)\n",
    "test_data.to_csv('PrepData/Stdnt_Test.csv', index=False)"
   ]
  },
  {
   "cell_type": "markdown",
   "metadata": {},
   "source": [
    "# Over sampling\n",
    "In order to achieve the 10s or sequential code running time we need to oversample the data.\n",
    "\n",
    "With 7k data of training we got about 1 second of run time.\n",
    "\n",
    "Therefore in order to achieve 10 senconds of run time we will need 700k rows of data."
   ]
  },
  {
   "cell_type": "markdown",
   "metadata": {},
   "source": [
    "Oversampled train and test data will be saved in .csv and .txt files.\n",
    "\n",
    "The .txt file will be used for an easy readability to the .c id3 implementation, the ',' separator will be exchanged for a ' ' in the .txt file."
   ]
  },
  {
   "cell_type": "markdown",
   "metadata": {},
   "source": [
    "## Train"
   ]
  },
  {
   "cell_type": "code",
   "execution_count": null,
   "metadata": {},
   "outputs": [],
   "source": [
    "#desired sample size\n",
    "desired_size = 500000\n",
    "current_size = len(y_train)\n",
    "#approximate multiplier to reach target balue\n",
    "multiplier = desired_size // current_size\n",
    "\n",
    "#random multiplier-based strategy\n",
    "oversampler = RandomOverSampler(sampling_strategy={label: multiplier * count for label, count in y_train.value_counts().items()})\n",
    "\n",
    "#apply oversampler to read row count\n",
    "X_train_oversampled, y_train_oversampled = oversampler.fit_resample(X_train, y_train)\n",
    "\n",
    "#combine features and target\n",
    "train_data_oversampled = X_train_oversampled.copy()\n",
    "train_data_oversampled['Grades'] = y_train_oversampled\n",
    "\n",
    "#save train to csv\n",
    "os.makedirs('PrepData', exist_ok=True)\n",
    "#csv\n",
    "#train_data_oversampled.to_csv('PrepData/Stdnt_Oversampled_Train.csv', index=False)\n",
    "#txt with space separators\n",
    "train_data_oversampled.to_csv('PrepData/Stdnt_Oversampled_Train.txt', sep=' ', header=False, index=False)\n",
    "\n",
    "#row count\n",
    "print(f\"Oversampled dataset size: {len(train_data_oversampled)} rows\")"
   ]
  },
  {
   "cell_type": "markdown",
   "metadata": {},
   "source": [
    "## Test"
   ]
  },
  {
   "cell_type": "code",
   "execution_count": null,
   "metadata": {},
   "outputs": [],
   "source": [
    "#desired sample size\n",
    "desired_test_size = 500000\n",
    "current_test_size = len(y_test)\n",
    "#approximate multiplier to reach target value\n",
    "test_multiplier = desired_test_size // current_test_size\n",
    "#random multiplier-based strategy\n",
    "oversampler_test = RandomOverSampler(sampling_strategy={label: test_multiplier * count for label, count in y_test.value_counts().items()})\n",
    "#apply oversampler to read row count\n",
    "X_test_oversampled, y_test_oversampled = oversampler_test.fit_resample(X_test, y_test)\n",
    "\n",
    "#combine features and target and save on csv\n",
    "test_data_oversampled = X_test_oversampled.copy()\n",
    "test_data_oversampled['Grades'] = y_test_oversampled\n",
    "#drop class attribute\n",
    "test_data_oversampled = test_data_oversampled.drop(columns=['Grades'])\n",
    "#save test to csv\n",
    "os.makedirs('PrepData/Oversampled', exist_ok=True)\n",
    "#csv\n",
    "#test_data_oversampled.to_csv('PrepData/Stdnt_Oversampled_Test.csv', index=False)\n",
    "#txt\n",
    "test_data_oversampled.to_csv('PrepData/Stdnt_Oversampled_Test.txt', sep=' ', header=False, index=False)\n",
    "\n",
    "print(f\"Oversampled test set size: {len(test_data_oversampled)} rows\")"
   ]
  }
 ],
 "metadata": {
  "kernelspec": {
   "display_name": "env",
   "language": "python",
   "name": "python3"
  },
  "language_info": {
   "codemirror_mode": {
    "name": "ipython",
    "version": 3
   },
   "file_extension": ".py",
   "mimetype": "text/x-python",
   "name": "python",
   "nbconvert_exporter": "python",
   "pygments_lexer": "ipython3",
   "version": "3.12.3"
  }
 },
 "nbformat": 4,
 "nbformat_minor": 2
}
